{
 "cells": [
  {
   "cell_type": "code",
   "execution_count": 277,
   "id": "e164c386-068a-4ff3-b60d-0c2b2ed271cb",
   "metadata": {},
   "outputs": [],
   "source": [
    "from datawrapper import Datawrapper"
   ]
  },
  {
   "cell_type": "code",
   "execution_count": 514,
   "id": "d54bd2c5-5caf-446e-9eb7-2c71a9541a94",
   "metadata": {},
   "outputs": [],
   "source": [
    "import pandas as pd"
   ]
  },
  {
   "cell_type": "code",
   "execution_count": 282,
   "id": "caa1eae2-902a-44cd-b6af-1908ce9d7632",
   "metadata": {},
   "outputs": [],
   "source": [
    "dw = Datawrapper(\"14dpifWqozZjtu2SfZCNik8uSuGczE4Szuf3RnNLXYTjkdbGwgjbiRBfe21VYBBX\")"
   ]
  },
  {
   "cell_type": "code",
   "execution_count": 539,
   "id": "673577b7-5682-427b-a417-d0e6d20f26b4",
   "metadata": {},
   "outputs": [],
   "source": [
    "df = pd.read_excel('Natural_Science_Dataset.xlsx')\n",
    "df.drop_duplicates(inplace = True)"
   ]
  },
  {
   "cell_type": "code",
   "execution_count": 540,
   "id": "c0f6f585-c218-48c8-b377-841d7ef83ff8",
   "metadata": {
    "scrolled": true
   },
   "outputs": [
    {
     "data": {
      "text/html": [
       "<div>\n",
       "<style scoped>\n",
       "    .dataframe tbody tr th:only-of-type {\n",
       "        vertical-align: middle;\n",
       "    }\n",
       "\n",
       "    .dataframe tbody tr th {\n",
       "        vertical-align: top;\n",
       "    }\n",
       "\n",
       "    .dataframe thead th {\n",
       "        text-align: right;\n",
       "    }\n",
       "</style>\n",
       "<table border=\"1\" class=\"dataframe\">\n",
       "  <thead>\n",
       "    <tr style=\"text-align: right;\">\n",
       "      <th></th>\n",
       "      <th>LOCATION</th>\n",
       "      <th>Country</th>\n",
       "      <th>POLLUTANT</th>\n",
       "      <th>Pollutant</th>\n",
       "      <th>MEASURE</th>\n",
       "      <th>Measure</th>\n",
       "      <th>FLIGHT</th>\n",
       "      <th>Flight type</th>\n",
       "      <th>FREQUENCY</th>\n",
       "      <th>Frequency</th>\n",
       "      <th>SOURCE</th>\n",
       "      <th>Source of emissions</th>\n",
       "      <th>SEASONALITY</th>\n",
       "      <th>Seasonality</th>\n",
       "      <th>TIME</th>\n",
       "      <th>Time</th>\n",
       "      <th>Value</th>\n",
       "      <th>Flag Codes</th>\n",
       "      <th>Flags</th>\n",
       "    </tr>\n",
       "  </thead>\n",
       "  <tbody>\n",
       "    <tr>\n",
       "      <th>0</th>\n",
       "      <td>AUS</td>\n",
       "      <td>Australia</td>\n",
       "      <td>CO2</td>\n",
       "      <td>Carbon dioxide</td>\n",
       "      <td>TCO2</td>\n",
       "      <td>tonnes of CO2-equivalent</td>\n",
       "      <td>TOTAL</td>\n",
       "      <td>All flights</td>\n",
       "      <td>A</td>\n",
       "      <td>Annual</td>\n",
       "      <td>RES_DOM_IN</td>\n",
       "      <td>\"(A) - Domestic flight in country A, operated ...</td>\n",
       "      <td>NSA</td>\n",
       "      <td>Non seasonally adjusted</td>\n",
       "      <td>2015</td>\n",
       "      <td>2015</td>\n",
       "      <td>7.351698e+06</td>\n",
       "      <td>NaN</td>\n",
       "      <td>NaN</td>\n",
       "    </tr>\n",
       "    <tr>\n",
       "      <th>1</th>\n",
       "      <td>AUS</td>\n",
       "      <td>Australia</td>\n",
       "      <td>CO2</td>\n",
       "      <td>Carbon dioxide</td>\n",
       "      <td>TCO2</td>\n",
       "      <td>tonnes of CO2-equivalent</td>\n",
       "      <td>TOTAL</td>\n",
       "      <td>All flights</td>\n",
       "      <td>A</td>\n",
       "      <td>Annual</td>\n",
       "      <td>RES_DOM_IN</td>\n",
       "      <td>\"(A) - Domestic flight in country A, operated ...</td>\n",
       "      <td>NSA</td>\n",
       "      <td>Non seasonally adjusted</td>\n",
       "      <td>2016</td>\n",
       "      <td>2016</td>\n",
       "      <td>7.415273e+06</td>\n",
       "      <td>NaN</td>\n",
       "      <td>NaN</td>\n",
       "    </tr>\n",
       "    <tr>\n",
       "      <th>2</th>\n",
       "      <td>AUS</td>\n",
       "      <td>Australia</td>\n",
       "      <td>CO2</td>\n",
       "      <td>Carbon dioxide</td>\n",
       "      <td>TCO2</td>\n",
       "      <td>tonnes of CO2-equivalent</td>\n",
       "      <td>TOTAL</td>\n",
       "      <td>All flights</td>\n",
       "      <td>A</td>\n",
       "      <td>Annual</td>\n",
       "      <td>RES_DOM_IN</td>\n",
       "      <td>\"(A) - Domestic flight in country A, operated ...</td>\n",
       "      <td>NSA</td>\n",
       "      <td>Non seasonally adjusted</td>\n",
       "      <td>2017</td>\n",
       "      <td>2017</td>\n",
       "      <td>7.333902e+06</td>\n",
       "      <td>NaN</td>\n",
       "      <td>NaN</td>\n",
       "    </tr>\n",
       "    <tr>\n",
       "      <th>3</th>\n",
       "      <td>AUS</td>\n",
       "      <td>Australia</td>\n",
       "      <td>CO2</td>\n",
       "      <td>Carbon dioxide</td>\n",
       "      <td>TCO2</td>\n",
       "      <td>tonnes of CO2-equivalent</td>\n",
       "      <td>TOTAL</td>\n",
       "      <td>All flights</td>\n",
       "      <td>A</td>\n",
       "      <td>Annual</td>\n",
       "      <td>RES_DOM_IN</td>\n",
       "      <td>\"(A) - Domestic flight in country A, operated ...</td>\n",
       "      <td>NSA</td>\n",
       "      <td>Non seasonally adjusted</td>\n",
       "      <td>2018</td>\n",
       "      <td>2018</td>\n",
       "      <td>7.320473e+06</td>\n",
       "      <td>NaN</td>\n",
       "      <td>NaN</td>\n",
       "    </tr>\n",
       "    <tr>\n",
       "      <th>4</th>\n",
       "      <td>AUS</td>\n",
       "      <td>Australia</td>\n",
       "      <td>CO2</td>\n",
       "      <td>Carbon dioxide</td>\n",
       "      <td>TCO2</td>\n",
       "      <td>tonnes of CO2-equivalent</td>\n",
       "      <td>TOTAL</td>\n",
       "      <td>All flights</td>\n",
       "      <td>A</td>\n",
       "      <td>Annual</td>\n",
       "      <td>RES_DOM_IN</td>\n",
       "      <td>\"(A) - Domestic flight in country A, operated ...</td>\n",
       "      <td>NSA</td>\n",
       "      <td>Non seasonally adjusted</td>\n",
       "      <td>2019</td>\n",
       "      <td>2019</td>\n",
       "      <td>7.756780e+06</td>\n",
       "      <td>NaN</td>\n",
       "      <td>NaN</td>\n",
       "    </tr>\n",
       "  </tbody>\n",
       "</table>\n",
       "</div>"
      ],
      "text/plain": [
       "  LOCATION    Country POLLUTANT       Pollutant MEASURE  \\\n",
       "0      AUS  Australia       CO2  Carbon dioxide    TCO2   \n",
       "1      AUS  Australia       CO2  Carbon dioxide    TCO2   \n",
       "2      AUS  Australia       CO2  Carbon dioxide    TCO2   \n",
       "3      AUS  Australia       CO2  Carbon dioxide    TCO2   \n",
       "4      AUS  Australia       CO2  Carbon dioxide    TCO2   \n",
       "\n",
       "                    Measure FLIGHT  Flight type FREQUENCY Frequency  \\\n",
       "0  tonnes of CO2-equivalent  TOTAL  All flights         A    Annual   \n",
       "1  tonnes of CO2-equivalent  TOTAL  All flights         A    Annual   \n",
       "2  tonnes of CO2-equivalent  TOTAL  All flights         A    Annual   \n",
       "3  tonnes of CO2-equivalent  TOTAL  All flights         A    Annual   \n",
       "4  tonnes of CO2-equivalent  TOTAL  All flights         A    Annual   \n",
       "\n",
       "       SOURCE                                Source of emissions SEASONALITY  \\\n",
       "0  RES_DOM_IN  \"(A) - Domestic flight in country A, operated ...         NSA   \n",
       "1  RES_DOM_IN  \"(A) - Domestic flight in country A, operated ...         NSA   \n",
       "2  RES_DOM_IN  \"(A) - Domestic flight in country A, operated ...         NSA   \n",
       "3  RES_DOM_IN  \"(A) - Domestic flight in country A, operated ...         NSA   \n",
       "4  RES_DOM_IN  \"(A) - Domestic flight in country A, operated ...         NSA   \n",
       "\n",
       "               Seasonality  TIME  Time         Value  Flag Codes  Flags  \n",
       "0  Non seasonally adjusted  2015  2015  7.351698e+06         NaN    NaN  \n",
       "1  Non seasonally adjusted  2016  2016  7.415273e+06         NaN    NaN  \n",
       "2  Non seasonally adjusted  2017  2017  7.333902e+06         NaN    NaN  \n",
       "3  Non seasonally adjusted  2018  2018  7.320473e+06         NaN    NaN  \n",
       "4  Non seasonally adjusted  2019  2019  7.756780e+06         NaN    NaN  "
      ]
     },
     "execution_count": 540,
     "metadata": {},
     "output_type": "execute_result"
    }
   ],
   "source": [
    "df.head()"
   ]
  },
  {
   "cell_type": "code",
   "execution_count": 639,
   "id": "f6a71e29-e203-424b-971b-37df749f4449",
   "metadata": {},
   "outputs": [],
   "source": [
    "#takes an input of a country--graphs average co2 emissions per flight by year from 2015 to 2022\n",
    "def makegraph(df) -> str:  \n",
    "    country = input(\"Input a country: \")  # Changed to colon\n",
    "    country_df = df[\"Country\"].str.contains(country) & df[\n",
    "        \"Source of emissions\"\n",
    "    ].str.contains(\"operated by a resident airline of country A\")\n",
    "    \n",
    "    country_rows = df.loc[country_df, ['Time', 'Value']].groupby('Time').mean()\n",
    "\n",
    "#if statement written by chatgpt\n",
    "    if country_rows.empty:\n",
    "        print(\"No data found for the specified country.\")\n",
    "        return None\n",
    "        \n",
    "#first 8\n",
    "    #terms in dataset correspond to times mapped to years 2015-2022 rather than to monthly or quarterly times\n",
    "    country_data = country_rows['Value'].head(8)\n",
    "    country_data = country_data.reset_index()\n",
    "\n",
    "#makes graph!\n",
    "    chart_config = dw.create_chart(\n",
    "        title=(country + \": Mean Carbon dioxide emissions per flight (in Tonnes)\"),\n",
    "        chart_type=\"column-chart\",\n",
    "        data=country_data,)\n",
    "\n",
    "    chart_id = chart_config[\"id\"]\n",
    "    dw.update_description(chart_id,\n",
    "    source_name=\"OECD Data Explorer - Air transport CO2 emissions (experimental)\",)\n",
    "    dw.publish_chart(chart_id)\n",
    "    return chart_id"
   ]
  },
  {
   "cell_type": "code",
   "execution_count": 702,
   "id": "72233425-70aa-455b-b721-67fa63eac43f",
   "metadata": {},
   "outputs": [
    {
     "name": "stdin",
     "output_type": "stream",
     "text": [
      "Input a country:  Switzerland\n"
     ]
    },
    {
     "data": {
      "text/html": [
       "\n",
       "        <iframe\n",
       "            width=\"600\"\n",
       "            height=\"400\"\n",
       "            src=\"https://datawrapper.dwcdn.net/t42vM/1/\"\n",
       "            frameborder=\"0\"\n",
       "            allowfullscreen\n",
       "            \n",
       "        ></iframe>\n",
       "        "
      ],
      "text/plain": [
       "<IPython.lib.display.IFrame at 0x29f43fc50>"
      ]
     },
     "execution_count": 702,
     "metadata": {},
     "output_type": "execute_result"
    }
   ],
   "source": [
    "dw.display_chart(makegraph(df))"
   ]
  },
  {
   "cell_type": "code",
   "execution_count": 703,
   "id": "d37dc57c-853e-45df-bacf-cfaa069bb518",
   "metadata": {},
   "outputs": [
    {
     "name": "stdin",
     "output_type": "stream",
     "text": [
      "Input a country:  Iceland\n"
     ]
    },
    {
     "data": {
      "text/html": [
       "\n",
       "        <iframe\n",
       "            width=\"600\"\n",
       "            height=\"400\"\n",
       "            src=\"https://datawrapper.dwcdn.net/q5xBr/1/\"\n",
       "            frameborder=\"0\"\n",
       "            allowfullscreen\n",
       "            \n",
       "        ></iframe>\n",
       "        "
      ],
      "text/plain": [
       "<IPython.lib.display.IFrame at 0x29c3c0650>"
      ]
     },
     "execution_count": 703,
     "metadata": {},
     "output_type": "execute_result"
    }
   ],
   "source": [
    "dw.display_chart(makegraph(df))"
   ]
  },
  {
   "cell_type": "code",
   "execution_count": 704,
   "id": "d96bcc98-ad8a-4156-a5f1-ed41b0f4d345",
   "metadata": {},
   "outputs": [
    {
     "name": "stdin",
     "output_type": "stream",
     "text": [
      "Input a country:  United States\n"
     ]
    },
    {
     "data": {
      "text/html": [
       "\n",
       "        <iframe\n",
       "            width=\"600\"\n",
       "            height=\"400\"\n",
       "            src=\"https://datawrapper.dwcdn.net/ayHhO/1/\"\n",
       "            frameborder=\"0\"\n",
       "            allowfullscreen\n",
       "            \n",
       "        ></iframe>\n",
       "        "
      ],
      "text/plain": [
       "<IPython.lib.display.IFrame at 0x29c3c4170>"
      ]
     },
     "execution_count": 704,
     "metadata": {},
     "output_type": "execute_result"
    }
   ],
   "source": [
    "dw.display_chart(makegraph(df))"
   ]
  },
  {
   "cell_type": "code",
   "execution_count": 705,
   "id": "0b98aa30-4de2-4b43-9c25-c772b28a7886",
   "metadata": {},
   "outputs": [],
   "source": [
    "#takes an input of a country, returns the difference (as integer) between the average co2 emissions per flight in 2022 and 2015\n",
    "def bigloser(country:str) -> float:  \n",
    "    country_df = df[\"Country\"].str.contains(country) & df[\n",
    "        \"Source of emissions\"\n",
    "    ].str.contains(\"operated by a resident airline of country A\")\n",
    "    \n",
    "    country_rows = df.loc[country_df, ['Time', 'Value']].groupby('Time').mean()\n",
    "\n",
    "#if statement written by chatgpt\n",
    "    if country_rows.empty:\n",
    "        print(\"No data found for the specified country.\")\n",
    "        return None\n",
    "\n",
    "    country_data = country_rows['Value'].head(8)\n",
    "    country_diff=int(country_data.iloc[7]-country_data.iloc[0])\n",
    "\n",
    "    return country_diff"
   ]
  },
  {
   "cell_type": "code",
   "execution_count": 718,
   "id": "2aaf2b06-0cfa-46f0-a355-ff437dd3b80f",
   "metadata": {},
   "outputs": [],
   "source": [
    "#accepts input from bigloser function, creates bar plot comparing the improvements/lack thereof by country\n",
    "def biggestloser() -> str:\n",
    "    a = int(input(\"How many countries would you like to compare?\"))\n",
    "    indx = 0\n",
    "    c = []\n",
    "    d = []\n",
    "    while (indx < a):\n",
    "        b = input(\"Name a country\")\n",
    "        d.append(b)\n",
    "        c.append(bigloser(b))\n",
    "        indx += 1\n",
    "\n",
    "    df = pd.DataFrame(columns=['Country', 'Emissions'])\n",
    "    df = pd.DataFrame(d,c)\n",
    "    df = df.reset_index()\n",
    "\n",
    "    chart_config = dw.create_chart(\n",
    "        title=(\"Who's the biggest loser?\"),\n",
    "        chart_type=\"d3-bars-stacked\",\n",
    "        data=df,\n",
    "    )\n",
    "\n",
    "    chart_id = chart_config[\"id\"]\n",
    "    dw.update_description(chart_id,\n",
    "    source_name=\"OECD Data Explorer - Air transport CO2 emissions (experimental)\",\n",
    "    intro=\"Increase in countries' domestic airlines' mean CO2 emissions per flight (in Tonnes) from 2015 to 2022\",)\n",
    "    dw.publish_chart(chart_id)\n",
    "    return chart_id"
   ]
  },
  {
   "cell_type": "code",
   "execution_count": 719,
   "id": "c8fa354a-0204-4d54-9197-129c15b2ce6d",
   "metadata": {},
   "outputs": [
    {
     "name": "stdin",
     "output_type": "stream",
     "text": [
      "How many countries would you like to compare? 30\n",
      "Name a country United States\n",
      "Name a country United Kingdom\n",
      "Name a country China\n",
      "Name a country Indonesia\n",
      "Name a country Finland\n",
      "Name a country Iceland\n",
      "Name a country Switzerland\n",
      "Name a country Germany\n",
      "Name a country Zimbabwe\n",
      "Name a country Kenya\n",
      "Name a country Tanzania\n",
      "Name a country Japan\n",
      "Name a country United Arab Emirates\n",
      "Name a country Denmark\n",
      "Name a country Australia\n",
      "Name a country Spain\n",
      "Name a country Mexico\n",
      "Name a country Russia\n",
      "Name a country Canada\n",
      "Name a country Brazil\n",
      "Name a country India\n",
      "Name a country Argentina\n",
      "Name a country Algeria\n",
      "Name a country Kazakhstan\n",
      "Name a country Pakistan\n",
      "Name a country Nigeria\n",
      "Name a country Bangladesh\n",
      "Name a country Egypt\n",
      "Name a country Philippines\n",
      "Name a country Vietnam\n"
     ]
    },
    {
     "name": "stdout",
     "output_type": "stream",
     "text": [
      "No data found for the specified country.\n"
     ]
    },
    {
     "data": {
      "text/html": [
       "\n",
       "        <iframe\n",
       "            width=\"600\"\n",
       "            height=\"400\"\n",
       "            src=\"https://datawrapper.dwcdn.net/2VxYQ/1/\"\n",
       "            frameborder=\"0\"\n",
       "            allowfullscreen\n",
       "            \n",
       "        ></iframe>\n",
       "        "
      ],
      "text/plain": [
       "<IPython.lib.display.IFrame at 0x29c3c5a60>"
      ]
     },
     "execution_count": 719,
     "metadata": {},
     "output_type": "execute_result"
    }
   ],
   "source": [
    "dw.display_chart(biggestloser())"
   ]
  }
 ],
 "metadata": {
  "kernelspec": {
   "display_name": "Python 3 (ipykernel)",
   "language": "python",
   "name": "python3"
  },
  "language_info": {
   "codemirror_mode": {
    "name": "ipython",
    "version": 3
   },
   "file_extension": ".py",
   "mimetype": "text/x-python",
   "name": "python",
   "nbconvert_exporter": "python",
   "pygments_lexer": "ipython3",
   "version": "3.12.5"
  }
 },
 "nbformat": 4,
 "nbformat_minor": 5
}
