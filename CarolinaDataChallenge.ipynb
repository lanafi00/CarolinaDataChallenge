{
 "cells": [
  {
   "cell_type": "code",
   "execution_count": 277,
   "id": "e164c386-068a-4ff3-b60d-0c2b2ed271cb",
   "metadata": {},
   "outputs": [],
   "source": [
    "from datawrapper import Datawrapper"
   ]
  },
  {
   "cell_type": "code",
   "execution_count": 514,
   "id": "d54bd2c5-5caf-446e-9eb7-2c71a9541a94",
   "metadata": {},
   "outputs": [],
   "source": [
    "import pandas as pd"
   ]
  },
  {
   "cell_type": "code",
   "execution_count": 282,
   "id": "caa1eae2-902a-44cd-b6af-1908ce9d7632",
   "metadata": {},
   "outputs": [],
   "source": [
    "dw = Datawrapper(\"14dpifWqozZjtu2SfZCNik8uSuGczE4Szuf3RnNLXYTjkdbGwgjbiRBfe21VYBBX\")"
   ]
  },
  {
   "cell_type": "code",
   "execution_count": 279,
   "id": "f34c57a7-0d9e-4c8c-bc77-903bf1d311ab",
   "metadata": {},
   "outputs": [
    {
     "name": "stdout",
     "output_type": "stream",
     "text": [
      "Requirement already satisfied: openpyxl in /Users/lilaanafi/Library/jupyterlab-desktop/jlab_server/lib/python3.12/site-packages (3.1.5)\n",
      "Requirement already satisfied: et-xmlfile in /Users/lilaanafi/Library/jupyterlab-desktop/jlab_server/lib/python3.12/site-packages (from openpyxl) (1.1.0)\n",
      "Note: you may need to restart the kernel to use updated packages.\n"
     ]
    }
   ],
   "source": [
    "pip install openpyxl"
   ]
  },
  {
   "cell_type": "code",
   "execution_count": 399,
   "id": "673577b7-5682-427b-a417-d0e6d20f26b4",
   "metadata": {},
   "outputs": [],
   "source": [
    "df = pd.read_excel('Natural_Science_Dataset.xlsx')\n"
   ]
  },
  {
   "cell_type": "code",
   "execution_count": 473,
   "id": "c0f6f585-c218-48c8-b377-841d7ef83ff8",
   "metadata": {},
   "outputs": [
    {
     "data": {
      "text/html": [
       "<div>\n",
       "<style scoped>\n",
       "    .dataframe tbody tr th:only-of-type {\n",
       "        vertical-align: middle;\n",
       "    }\n",
       "\n",
       "    .dataframe tbody tr th {\n",
       "        vertical-align: top;\n",
       "    }\n",
       "\n",
       "    .dataframe thead th {\n",
       "        text-align: right;\n",
       "    }\n",
       "</style>\n",
       "<table border=\"1\" class=\"dataframe\">\n",
       "  <thead>\n",
       "    <tr style=\"text-align: right;\">\n",
       "      <th></th>\n",
       "      <th>LOCATION</th>\n",
       "      <th>Country</th>\n",
       "      <th>POLLUTANT</th>\n",
       "      <th>Pollutant</th>\n",
       "      <th>MEASURE</th>\n",
       "      <th>Measure</th>\n",
       "      <th>FLIGHT</th>\n",
       "      <th>Flight type</th>\n",
       "      <th>FREQUENCY</th>\n",
       "      <th>Frequency</th>\n",
       "      <th>SOURCE</th>\n",
       "      <th>Source of emissions</th>\n",
       "      <th>SEASONALITY</th>\n",
       "      <th>Seasonality</th>\n",
       "      <th>TIME</th>\n",
       "      <th>Time</th>\n",
       "      <th>Value</th>\n",
       "      <th>Flag Codes</th>\n",
       "      <th>Flags</th>\n",
       "    </tr>\n",
       "  </thead>\n",
       "  <tbody>\n",
       "    <tr>\n",
       "      <th>0</th>\n",
       "      <td>AUS</td>\n",
       "      <td>Australia</td>\n",
       "      <td>CO2</td>\n",
       "      <td>Carbon dioxide</td>\n",
       "      <td>TCO2</td>\n",
       "      <td>tonnes of CO2-equivalent</td>\n",
       "      <td>TOTAL</td>\n",
       "      <td>All flights</td>\n",
       "      <td>A</td>\n",
       "      <td>Annual</td>\n",
       "      <td>RES_DOM_IN</td>\n",
       "      <td>\"(A) - Domestic flight in country A, operated ...</td>\n",
       "      <td>NSA</td>\n",
       "      <td>Non seasonally adjusted</td>\n",
       "      <td>2015</td>\n",
       "      <td>2015</td>\n",
       "      <td>7.351698e+06</td>\n",
       "      <td>NaN</td>\n",
       "      <td>NaN</td>\n",
       "    </tr>\n",
       "    <tr>\n",
       "      <th>1</th>\n",
       "      <td>AUS</td>\n",
       "      <td>Australia</td>\n",
       "      <td>CO2</td>\n",
       "      <td>Carbon dioxide</td>\n",
       "      <td>TCO2</td>\n",
       "      <td>tonnes of CO2-equivalent</td>\n",
       "      <td>TOTAL</td>\n",
       "      <td>All flights</td>\n",
       "      <td>A</td>\n",
       "      <td>Annual</td>\n",
       "      <td>RES_DOM_IN</td>\n",
       "      <td>\"(A) - Domestic flight in country A, operated ...</td>\n",
       "      <td>NSA</td>\n",
       "      <td>Non seasonally adjusted</td>\n",
       "      <td>2016</td>\n",
       "      <td>2016</td>\n",
       "      <td>7.415273e+06</td>\n",
       "      <td>NaN</td>\n",
       "      <td>NaN</td>\n",
       "    </tr>\n",
       "    <tr>\n",
       "      <th>2</th>\n",
       "      <td>AUS</td>\n",
       "      <td>Australia</td>\n",
       "      <td>CO2</td>\n",
       "      <td>Carbon dioxide</td>\n",
       "      <td>TCO2</td>\n",
       "      <td>tonnes of CO2-equivalent</td>\n",
       "      <td>TOTAL</td>\n",
       "      <td>All flights</td>\n",
       "      <td>A</td>\n",
       "      <td>Annual</td>\n",
       "      <td>RES_DOM_IN</td>\n",
       "      <td>\"(A) - Domestic flight in country A, operated ...</td>\n",
       "      <td>NSA</td>\n",
       "      <td>Non seasonally adjusted</td>\n",
       "      <td>2017</td>\n",
       "      <td>2017</td>\n",
       "      <td>7.333902e+06</td>\n",
       "      <td>NaN</td>\n",
       "      <td>NaN</td>\n",
       "    </tr>\n",
       "    <tr>\n",
       "      <th>3</th>\n",
       "      <td>AUS</td>\n",
       "      <td>Australia</td>\n",
       "      <td>CO2</td>\n",
       "      <td>Carbon dioxide</td>\n",
       "      <td>TCO2</td>\n",
       "      <td>tonnes of CO2-equivalent</td>\n",
       "      <td>TOTAL</td>\n",
       "      <td>All flights</td>\n",
       "      <td>A</td>\n",
       "      <td>Annual</td>\n",
       "      <td>RES_DOM_IN</td>\n",
       "      <td>\"(A) - Domestic flight in country A, operated ...</td>\n",
       "      <td>NSA</td>\n",
       "      <td>Non seasonally adjusted</td>\n",
       "      <td>2018</td>\n",
       "      <td>2018</td>\n",
       "      <td>7.320473e+06</td>\n",
       "      <td>NaN</td>\n",
       "      <td>NaN</td>\n",
       "    </tr>\n",
       "    <tr>\n",
       "      <th>4</th>\n",
       "      <td>AUS</td>\n",
       "      <td>Australia</td>\n",
       "      <td>CO2</td>\n",
       "      <td>Carbon dioxide</td>\n",
       "      <td>TCO2</td>\n",
       "      <td>tonnes of CO2-equivalent</td>\n",
       "      <td>TOTAL</td>\n",
       "      <td>All flights</td>\n",
       "      <td>A</td>\n",
       "      <td>Annual</td>\n",
       "      <td>RES_DOM_IN</td>\n",
       "      <td>\"(A) - Domestic flight in country A, operated ...</td>\n",
       "      <td>NSA</td>\n",
       "      <td>Non seasonally adjusted</td>\n",
       "      <td>2019</td>\n",
       "      <td>2019</td>\n",
       "      <td>7.756780e+06</td>\n",
       "      <td>NaN</td>\n",
       "      <td>NaN</td>\n",
       "    </tr>\n",
       "  </tbody>\n",
       "</table>\n",
       "</div>"
      ],
      "text/plain": [
       "  LOCATION    Country POLLUTANT       Pollutant MEASURE  \\\n",
       "0      AUS  Australia       CO2  Carbon dioxide    TCO2   \n",
       "1      AUS  Australia       CO2  Carbon dioxide    TCO2   \n",
       "2      AUS  Australia       CO2  Carbon dioxide    TCO2   \n",
       "3      AUS  Australia       CO2  Carbon dioxide    TCO2   \n",
       "4      AUS  Australia       CO2  Carbon dioxide    TCO2   \n",
       "\n",
       "                    Measure FLIGHT  Flight type FREQUENCY Frequency  \\\n",
       "0  tonnes of CO2-equivalent  TOTAL  All flights         A    Annual   \n",
       "1  tonnes of CO2-equivalent  TOTAL  All flights         A    Annual   \n",
       "2  tonnes of CO2-equivalent  TOTAL  All flights         A    Annual   \n",
       "3  tonnes of CO2-equivalent  TOTAL  All flights         A    Annual   \n",
       "4  tonnes of CO2-equivalent  TOTAL  All flights         A    Annual   \n",
       "\n",
       "       SOURCE                                Source of emissions SEASONALITY  \\\n",
       "0  RES_DOM_IN  \"(A) - Domestic flight in country A, operated ...         NSA   \n",
       "1  RES_DOM_IN  \"(A) - Domestic flight in country A, operated ...         NSA   \n",
       "2  RES_DOM_IN  \"(A) - Domestic flight in country A, operated ...         NSA   \n",
       "3  RES_DOM_IN  \"(A) - Domestic flight in country A, operated ...         NSA   \n",
       "4  RES_DOM_IN  \"(A) - Domestic flight in country A, operated ...         NSA   \n",
       "\n",
       "               Seasonality  TIME  Time         Value  Flag Codes  Flags  \n",
       "0  Non seasonally adjusted  2015  2015  7.351698e+06         NaN    NaN  \n",
       "1  Non seasonally adjusted  2016  2016  7.415273e+06         NaN    NaN  \n",
       "2  Non seasonally adjusted  2017  2017  7.333902e+06         NaN    NaN  \n",
       "3  Non seasonally adjusted  2018  2018  7.320473e+06         NaN    NaN  \n",
       "4  Non seasonally adjusted  2019  2019  7.756780e+06         NaN    NaN  "
      ]
     },
     "execution_count": 473,
     "metadata": {},
     "output_type": "execute_result"
    }
   ],
   "source": [
    "df.head()"
   ]
  },
  {
   "cell_type": "code",
   "execution_count": 512,
   "id": "0cadb2b9-e0ed-4e56-b900-38216e396a01",
   "metadata": {},
   "outputs": [],
   "source": [
    "def makegraph(df) -> str:  \n",
    "    country: str = input(\"Input a country: \")  # Changed to colon\n",
    "    country_df = df[\"Country\"].str.contains(country) & df[\n",
    "        \"Source of emissions\"\n",
    "    ].str.contains(\"operated by a resident airline of country A\",na=\"False\")\n",
    "    \n",
    "    country_rows = df.loc[country_df, ['Time', 'Value']].groupby('Time').mean()\n",
    "\n",
    "#if statement written by chatgpt\n",
    "    if country_rows.empty:\n",
    "        print(\"No data found for the specified country.\")\n",
    "        return None\n",
    "\n",
    "    country_data = country_rows['Value'].head(8)\n",
    "    country_data = country_data.reset_index()\n",
    "\n",
    "    chart_config = dw.create_chart(\n",
    "        title=(country + \": Mean Carbon dioxide emissions per flight (in Tonnes)\"),\n",
    "        chart_type=\"column-chart\",\n",
    "        data=country_data,)\n",
    "    \n",
    "    chart_id = chart_config[\"id\"]\n",
    "    dw.publish_chart(chart_id)\n",
    "    dw.display_chart(chart_id)\n",
    "    dw.update_description(chart_id,\n",
    "    source_name=\"OECD Data Explorer - Air transport CO2 emissions (experimental)\",)\n",
    "\n",
    "    return chart_id\n"
   ]
  },
  {
   "cell_type": "code",
   "execution_count": 511,
   "id": "d34e39b7-b9b8-4e63-b4d3-f9d32aae7850",
   "metadata": {},
   "outputs": [
    {
     "name": "stdin",
     "output_type": "stream",
     "text": [
      "Input a country:  United States\n"
     ]
    },
    {
     "data": {
      "text/plain": [
       "'h4aqD'"
      ]
     },
     "execution_count": 511,
     "metadata": {},
     "output_type": "execute_result"
    }
   ],
   "source": [
    "makegraph(df)"
   ]
  },
  {
   "cell_type": "code",
   "execution_count": 509,
   "id": "ccf6a0ea-8b87-4ee2-8fac-859f29064d9b",
   "metadata": {},
   "outputs": [
    {
     "data": {
      "text/html": [
       "\n",
       "        <iframe\n",
       "            width=\"600\"\n",
       "            height=\"400\"\n",
       "            src=\"https://datawrapper.dwcdn.net/aR3Xv/1/\"\n",
       "            frameborder=\"0\"\n",
       "            allowfullscreen\n",
       "            \n",
       "        ></iframe>\n",
       "        "
      ],
      "text/plain": [
       "<IPython.lib.display.IFrame at 0x29c3e6a80>"
      ]
     },
     "execution_count": 509,
     "metadata": {},
     "output_type": "execute_result"
    }
   ],
   "source": [
    "dw.display_chart(\"aR3Xv\")"
   ]
  },
  {
   "cell_type": "code",
   "execution_count": null,
   "id": "0e934cd3-7929-4604-845f-9a9bd800e023",
   "metadata": {},
   "outputs": [],
   "source": []
  }
 ],
 "metadata": {
  "kernelspec": {
   "display_name": "Python 3 (ipykernel)",
   "language": "python",
   "name": "python3"
  },
  "language_info": {
   "codemirror_mode": {
    "name": "ipython",
    "version": 3
   },
   "file_extension": ".py",
   "mimetype": "text/x-python",
   "name": "python",
   "nbconvert_exporter": "python",
   "pygments_lexer": "ipython3",
   "version": "3.12.5"
  }
 },
 "nbformat": 4,
 "nbformat_minor": 5
}
